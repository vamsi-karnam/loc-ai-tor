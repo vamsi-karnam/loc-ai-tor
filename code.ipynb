{
 "cells": [
  {
   "cell_type": "code",
   "execution_count": 7,
   "metadata": {},
   "outputs": [
    {
     "name": "stdout",
     "output_type": "stream",
     "text": [
      "no bad files\n"
     ]
    }
   ],
   "source": [
    "from PIL import Image\n",
    "import os\n",
    "\n",
    "image_dir = 'EuropeanCastles/Castle_Images'\n",
    "\n",
    "# Walk through the directories and subdirectories\n",
    "for subdir, dirs, files in os.walk(image_dir):\n",
    "    for file in files:\n",
    "        try:\n",
    "            img = Image.open(os.path.join(subdir, file)) # open the image file\n",
    "            img.verify() # verify that it is, in fact an image\n",
    "        except (IOError, SyntaxError) as e:\n",
    "            print('Bad file:', os.path.join(subdir, file)) # print out the names of corrupt files\n",
    "print(\"no bad files\")"
   ]
  },
  {
   "cell_type": "code",
   "execution_count": 8,
   "metadata": {},
   "outputs": [],
   "source": [
    "import os\n",
    "os.environ[\"KERAS_BACKEND\"] = \"tensorflow\"\n",
    "import PIL\n",
    "from tensorflow import keras\n",
    "from tensorflow.keras.preprocessing import image\n",
    "import numpy as np\n",
    "from tensorflow.keras.preprocessing.image import ImageDataGenerator\n",
    "from keras.models import Sequential\n",
    "from keras.layers import Conv2D, MaxPooling2D, Flatten, Dense, Dropout, BatchNormalization"
   ]
  },
  {
   "cell_type": "code",
   "execution_count": 9,
   "metadata": {},
   "outputs": [
    {
     "name": "stdout",
     "output_type": "stream",
     "text": [
      "training set: \n",
      "Found 4268 images belonging to 37 classes.\n",
      "validation set: \n",
      "Found 1057 images belonging to 37 classes.\n"
     ]
    }
   ],
   "source": [
    "datagen = ImageDataGenerator(rescale=1./255, validation_split=0.2)\n",
    "\n",
    "print(\"training set: \")\n",
    "train_generator = datagen.flow_from_directory(\n",
    "    'EuropeanCastles/Castle_Images',\n",
    "    target_size = (500,500),\n",
    "    batch_size = 32,\n",
    "    class_mode = 'categorical',\n",
    "    subset = 'training'\n",
    ")\n",
    "\n",
    "print(\"validation set: \")\n",
    "validation_generator = datagen.flow_from_directory(\n",
    "    'EuropeanCastles/Castle_Images',\n",
    "    target_size = (500,500),\n",
    "    batch_size = 32,\n",
    "    class_mode = 'categorical',\n",
    "    subset = 'validation'\n",
    ")"
   ]
  },
  {
   "cell_type": "code",
   "execution_count": 10,
   "metadata": {},
   "outputs": [],
   "source": [
    "num_classes = 37\n",
    "\n",
    "model = Sequential()\n",
    "\n",
    "model.add(Conv2D(64, (3, 3), activation='relu', input_shape=(500, 500, 3)))\n",
    "model.add(MaxPooling2D((2, 2)))\n",
    "# model.add(Dropout(0.25))\n",
    "\n",
    "model.add(Conv2D(128, (3, 3), activation='relu'))\n",
    "model.add(MaxPooling2D((2, 2)))\n",
    "model.add(BatchNormalization())\n",
    "\n",
    "# model.add(Conv2D(512, (3, 3), activation='relu'))\n",
    "# model.add(MaxPooling2D((2, 2)))\n",
    "# model.add(Dropout(0.25))\n",
    "\n",
    "# model.add(Conv2D(1024, (3, 3), activation='relu'))\n",
    "# model.add(MaxPooling2D((2, 2)))\n",
    "# model.add(BatchNormalization())\n",
    "\n",
    "model.add(Flatten())\n",
    "model.add(Dense(512, activation='relu'))\n",
    "model.add(Dense(num_classes, activation='softmax'))"
   ]
  },
  {
   "cell_type": "code",
   "execution_count": 11,
   "metadata": {},
   "outputs": [],
   "source": [
    "model.compile(loss='categorical_crossentropy',\n",
    "              optimizer='adam',\n",
    "              metrics=['accuracy'])"
   ]
  },
  {
   "cell_type": "code",
   "execution_count": 12,
   "metadata": {},
   "outputs": [
    {
     "name": "stdout",
     "output_type": "stream",
     "text": [
      "Epoch 1/10\n",
      "\u001b[1m 35/134\u001b[0m \u001b[32m━━━━━\u001b[0m\u001b[37m━━━━━━━━━━━━━━━\u001b[0m \u001b[1m9:19\u001b[0m 6s/step - accuracy: 0.0829 - loss: 157.6797"
     ]
    }
   ],
   "source": [
    "history = model.fit(\n",
    "    train_generator,\n",
    "    steps_per_epoch = None, # train_generator.samples // train_generator.batch_size,\n",
    "    validation_data = validation_generator,\n",
    "    validation_steps = None, epochs = 10) # validation_generator.samples // validation_generator.batch_size, epochs=20)"
   ]
  },
  {
   "cell_type": "code",
   "execution_count": null,
   "metadata": {},
   "outputs": [],
   "source": [
    "loss, accuracy = model.evaluate(validation_generator)\n",
    "print(f'Validation accuracy : {accuracy}')"
   ]
  },
  {
   "cell_type": "code",
   "execution_count": null,
   "metadata": {},
   "outputs": [],
   "source": [
    "img = image.load_img('EuropeanCastles/Castle_Images/Isle_of_Man/Peel_Castle/1.jpg', target_size=(500,500))\n",
    "\n",
    "img_array = image.img_to_array(img)\n",
    "img_array = img_array / 255.0\n",
    "\n",
    "img_array = np.expand_dims(img_array, axis=0)\n",
    "\n",
    "prediction = model.predict(img_array)\n",
    "\n",
    "predicted_class = np.argmax(prediction[0])\n",
    "\n",
    "class_indices = train_generator.class_indices\n",
    "\n",
    "index_to_class = {v: k for k, v in class_indices.items()}\n",
    "\n",
    "predicted_class_name = index_to_class[predicted_class]\n",
    "\n",
    "print('Predicted class: ', predicted_class_name)"
   ]
  },
  {
   "cell_type": "code",
   "execution_count": null,
   "metadata": {},
   "outputs": [],
   "source": [
    "# Save model and labels\n",
    "\n",
    "import pickle\n",
    "\n",
    "with open('class_indices.pkl', 'wb') as f:\n",
    "    pickle.dump(train_generator.class_indices, f)\n",
    "\n",
    "model.save('locate.h5') # h5 is legacy, if encoutering errors, save as .keras instead"
   ]
  },
  {
   "cell_type": "code",
   "execution_count": null,
   "metadata": {},
   "outputs": [],
   "source": [
    "# load model and predict example\n",
    "\"\"\"\n",
    "from tensorflow.keras.models import load_model\n",
    "import pickle\n",
    "\n",
    "with open('class_indices.pkl', 'wb') as f:\n",
    "    class_indices = pickle.load(f)\n",
    "\n",
    "model = load_model('path_to_h5_file.h5')\n",
    "\n",
    "img = image.load_img('EuropeanCastles/Castle_Images/Isle_of_Man/Peel_Castle/1.jpg', target_size=(500,500))\n",
    "\n",
    "img_array = image.img_to_array(img)\n",
    "img_array = img_array / 255.0\n",
    "\n",
    "img_array = np.expand_dims(img_array, axis=0)\n",
    "\n",
    "prediction = model.predict(img_array)\n",
    "\n",
    "predicted_class = np.argmax(prediction[0])\n",
    "\n",
    "index_to_class = {v: k for k, v in class_indices.items()}\n",
    "\n",
    "predicted_class_name = index_to_class[predicted_class]\n",
    "\n",
    "print('Predicted class: ', predicted_class_name) \n",
    "\n",
    "\"\"\""
   ]
  }
 ],
 "metadata": {
  "kernelspec": {
   "display_name": "Python 3",
   "language": "python",
   "name": "python3"
  },
  "language_info": {
   "codemirror_mode": {
    "name": "ipython",
    "version": 3
   },
   "file_extension": ".py",
   "mimetype": "text/x-python",
   "name": "python",
   "nbconvert_exporter": "python",
   "pygments_lexer": "ipython3",
   "version": "3.12.0"
  }
 },
 "nbformat": 4,
 "nbformat_minor": 2
}

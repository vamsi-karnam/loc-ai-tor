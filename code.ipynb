{
 "cells": [
  {
   "cell_type": "code",
   "execution_count": 1,
   "metadata": {},
   "outputs": [
    {
     "name": "stdout",
     "output_type": "stream",
     "text": [
      "no bad files\n"
     ]
    }
   ],
   "source": [
    "from PIL import Image\n",
    "import os\n",
    "\n",
    "image_dir = 'EuropeanCastles/Castle_Images'\n",
    "\n",
    "# Walk through the directories and subdirectories\n",
    "for subdir, dirs, files in os.walk(image_dir):\n",
    "    for file in files:\n",
    "        try:\n",
    "            img = Image.open(os.path.join(subdir, file)) # open the image file\n",
    "            img.verify() # verify that it is, in fact an image\n",
    "        except (IOError, SyntaxError) as e:\n",
    "            print('Bad file:', os.path.join(subdir, file)) # print out the names of corrupt files\n",
    "print(\"no bad files\")"
   ]
  },
  {
   "cell_type": "code",
   "execution_count": 2,
   "metadata": {},
   "outputs": [],
   "source": [
    "import os\n",
    "os.environ[\"KERAS_BACKEND\"] = \"tensorflow\"\n",
    "import PIL\n",
    "from tensorflow import keras\n",
    "from tensorflow.keras.preprocessing import image\n",
    "import numpy as np\n",
    "from tensorflow.keras.preprocessing.image import ImageDataGenerator\n",
    "from keras.models import Sequential\n",
    "from keras.layers import Conv2D, MaxPooling2D, Flatten, Dense"
   ]
  },
  {
   "cell_type": "code",
   "execution_count": 3,
   "metadata": {},
   "outputs": [
    {
     "name": "stdout",
     "output_type": "stream",
     "text": [
      "training set: \n",
      "Found 4268 images belonging to 37 classes.\n",
      "validation set: \n",
      "Found 1057 images belonging to 37 classes.\n"
     ]
    }
   ],
   "source": [
    "datagen = ImageDataGenerator(rescale=1./255, validation_split=0.2)\n",
    "\n",
    "print(\"training set: \")\n",
    "train_generator = datagen.flow_from_directory(\n",
    "    'EuropeanCastles/Castle_Images',\n",
    "    target_size = (480,480),\n",
    "    batch_size = 32,\n",
    "    class_mode = 'categorical',\n",
    "    subset = 'training'\n",
    ")\n",
    "\n",
    "print(\"validation set: \")\n",
    "validation_generator = datagen.flow_from_directory(\n",
    "    'EuropeanCastles/Castle_Images',\n",
    "    target_size = (480,480),\n",
    "    batch_size = 32,\n",
    "    class_mode = 'categorical',\n",
    "    subset = 'validation'\n",
    ")"
   ]
  },
  {
   "cell_type": "code",
   "execution_count": 4,
   "metadata": {},
   "outputs": [
    {
     "name": "stderr",
     "output_type": "stream",
     "text": [
      "c:\\Users\\VamsiKarnam\\AppData\\Local\\Programs\\Python\\Python312\\Lib\\site-packages\\keras\\src\\layers\\convolutional\\base_conv.py:107: UserWarning: Do not pass an `input_shape`/`input_dim` argument to a layer. When using Sequential models, prefer using an `Input(shape)` object as the first layer in the model instead.\n",
      "  super().__init__(activity_regularizer=activity_regularizer, **kwargs)\n"
     ]
    }
   ],
   "source": [
    "num_classes = 37\n",
    "\n",
    "model = Sequential()\n",
    "model.add(Conv2D(64, (3, 3), activation='relu', input_shape=(150, 150, 3)))\n",
    "model.add(MaxPooling2D((2, 2)))\n",
    "model.add(Conv2D(128, (3, 3), activation='relu'))\n",
    "model.add(MaxPooling2D((2, 2)))\n",
    "model.add(Conv2D(512, (3, 3), activation='relu'))\n",
    "model.add(MaxPooling2D((2, 2)))\n",
    "model.add(Flatten())\n",
    "model.add(Dense(1024, activation='relu'))\n",
    "model.add(Dense(num_classes, activation='softmax'))"
   ]
  },
  {
   "cell_type": "code",
   "execution_count": 5,
   "metadata": {},
   "outputs": [],
   "source": [
    "model.compile(loss='categorical_crossentropy',\n",
    "              optimizer='adam',\n",
    "              metrics=['accuracy'])"
   ]
  },
  {
   "cell_type": "code",
   "execution_count": 6,
   "metadata": {},
   "outputs": [
    {
     "name": "stdout",
     "output_type": "stream",
     "text": [
      "Epoch 1/7\n"
     ]
    },
    {
     "name": "stderr",
     "output_type": "stream",
     "text": [
      "c:\\Users\\VamsiKarnam\\AppData\\Local\\Programs\\Python\\Python312\\Lib\\site-packages\\keras\\src\\trainers\\data_adapters\\py_dataset_adapter.py:121: UserWarning: Your `PyDataset` class should call `super().__init__(**kwargs)` in its constructor. `**kwargs` can include `workers`, `use_multiprocessing`, `max_queue_size`. Do not pass these arguments to `fit()`, as they will be ignored.\n",
      "  self._warn_if_super_not_called()\n"
     ]
    },
    {
     "name": "stdout",
     "output_type": "stream",
     "text": [
      "\u001b[1m134/134\u001b[0m \u001b[32m━━━━━━━━━━━━━━━━━━━━\u001b[0m\u001b[37m\u001b[0m \u001b[1m113s\u001b[0m 825ms/step - accuracy: 0.1409 - loss: 3.3960 - val_accuracy: 0.1854 - val_loss: 2.8662\n",
      "Epoch 2/7\n",
      "\u001b[1m134/134\u001b[0m \u001b[32m━━━━━━━━━━━━━━━━━━━━\u001b[0m\u001b[37m\u001b[0m \u001b[1m111s\u001b[0m 823ms/step - accuracy: 0.1840 - loss: 2.8561 - val_accuracy: 0.1854 - val_loss: 2.8556\n",
      "Epoch 3/7\n",
      "\u001b[1m134/134\u001b[0m \u001b[32m━━━━━━━━━━━━━━━━━━━━\u001b[0m\u001b[37m\u001b[0m \u001b[1m110s\u001b[0m 812ms/step - accuracy: 0.1831 - loss: 2.8870 - val_accuracy: 0.1854 - val_loss: 2.8667\n",
      "Epoch 4/7\n",
      "\u001b[1m134/134\u001b[0m \u001b[32m━━━━━━━━━━━━━━━━━━━━\u001b[0m\u001b[37m\u001b[0m \u001b[1m111s\u001b[0m 825ms/step - accuracy: 0.1830 - loss: 2.9075 - val_accuracy: 0.1854 - val_loss: 2.8599\n",
      "Epoch 5/7\n",
      "\u001b[1m134/134\u001b[0m \u001b[32m━━━━━━━━━━━━━━━━━━━━\u001b[0m\u001b[37m\u001b[0m \u001b[1m110s\u001b[0m 816ms/step - accuracy: 0.1889 - loss: 2.8549 - val_accuracy: 0.1816 - val_loss: 2.8925\n",
      "Epoch 6/7\n",
      "\u001b[1m134/134\u001b[0m \u001b[32m━━━━━━━━━━━━━━━━━━━━\u001b[0m\u001b[37m\u001b[0m \u001b[1m111s\u001b[0m 820ms/step - accuracy: 0.2310 - loss: 2.6430 - val_accuracy: 0.1504 - val_loss: 3.0765\n",
      "Epoch 7/7\n",
      "\u001b[1m134/134\u001b[0m \u001b[32m━━━━━━━━━━━━━━━━━━━━\u001b[0m\u001b[37m\u001b[0m \u001b[1m111s\u001b[0m 822ms/step - accuracy: 0.3456 - loss: 2.2015 - val_accuracy: 0.1429 - val_loss: 3.3923\n"
     ]
    }
   ],
   "source": [
    "history = model.fit(\n",
    "    train_generator,\n",
    "    steps_per_epoch = None, # train_generator.samples // train_generator.batch_size,\n",
    "    validation_data = validation_generator,\n",
    "    validation_steps = None, epochs = 7) # validation_generator.samples // validation_generator.batch_size, epochs=20)"
   ]
  },
  {
   "cell_type": "code",
   "execution_count": 7,
   "metadata": {},
   "outputs": [
    {
     "name": "stdout",
     "output_type": "stream",
     "text": [
      "\u001b[1m34/34\u001b[0m \u001b[32m━━━━━━━━━━━━━━━━━━━━\u001b[0m\u001b[37m\u001b[0m \u001b[1m7s\u001b[0m 201ms/step - accuracy: 0.1254 - loss: 3.4545\n",
      "Validation accuracy : 0.1428571492433548\n"
     ]
    }
   ],
   "source": [
    "loss, accuracy = model.evaluate(validation_generator)\n",
    "print(f'Validation accuracy : {accuracy}')"
   ]
  },
  {
   "cell_type": "code",
   "execution_count": 8,
   "metadata": {},
   "outputs": [
    {
     "name": "stdout",
     "output_type": "stream",
     "text": [
      "\u001b[1m1/1\u001b[0m \u001b[32m━━━━━━━━━━━━━━━━━━━━\u001b[0m\u001b[37m\u001b[0m \u001b[1m0s\u001b[0m 111ms/step\n",
      "Predicted class:  United_Kingdom\n"
     ]
    }
   ],
   "source": [
    "img = image.load_img('EuropeanCastles/Castle_Images/Isle_of_Man/Peel_Castle/1.jpg', target_size=(480,480))\n",
    "\n",
    "img_array = image.img_to_array(img)\n",
    "img_array = img_array / 255.0\n",
    "\n",
    "img_array = np.expand_dims(img_array, axis=0)\n",
    "\n",
    "prediction = model.predict(img_array)\n",
    "\n",
    "predicted_class = np.argmax(prediction[0])\n",
    "\n",
    "class_indices = train_generator.class_indices\n",
    "\n",
    "index_to_class = {v: k for k, v in class_indices.items()}\n",
    "\n",
    "predicted_class_name = index_to_class[predicted_class]\n",
    "\n",
    "print('Predicted class: ', predicted_class_name)"
   ]
  },
  {
   "cell_type": "code",
   "execution_count": 9,
   "metadata": {},
   "outputs": [
    {
     "name": "stderr",
     "output_type": "stream",
     "text": [
      "WARNING:absl:You are saving your model as an HDF5 file via `model.save()` or `keras.saving.save_model(model)`. This file format is considered legacy. We recommend using instead the native Keras format, e.g. `model.save('my_model.keras')` or `keras.saving.save_model(model, 'my_model.keras')`. \n"
     ]
    }
   ],
   "source": [
    "# Save model and labels\n",
    "\n",
    "import pickle\n",
    "\n",
    "with open('class_indices.pkl', 'wb') as f:\n",
    "    pickle.dump(train_generator.class_indices, f)\n",
    "\n",
    "model.save('locate.h5') # h5 is legacy, if encoutering errors, save as .keras instead"
   ]
  },
  {
   "cell_type": "code",
   "execution_count": 10,
   "metadata": {},
   "outputs": [
    {
     "data": {
      "text/plain": [
       "\"\\nfrom tensorflow.keras.models import load_model\\nimport pickle\\n\\nwith open('class_indices.pkl', 'wb') as f:\\n    class_indices = pickle.load(f)\\n\\nmodel = load_model('path_to_h5_file.h5')\\n\\nimg = image.load_img('EuropeanCastles/Castle_Images/Isle_of_Man/Peel_Castle/1.jpg', target_size=(150,150))\\n\\nimg_array = image.img_to_array(img)\\nimg_array = img_array / 255.0\\n\\nimg_array = np.expand_dims(img_array, axis=0)\\n\\nprediction = model.predict(img_array)\\n\\npredicted_class = np.argmax(prediction[0])\\n\\nindex_to_class = {v: k for k, v in class_indices.items()}\\n\\npredicted_class_name = index_to_class[predicted_class]\\n\\nprint('Predicted class: ', predicted_class_name) \\n\\n\""
      ]
     },
     "execution_count": 10,
     "metadata": {},
     "output_type": "execute_result"
    }
   ],
   "source": [
    "# load model and predict example\n",
    "\"\"\"\n",
    "from tensorflow.keras.models import load_model\n",
    "import pickle\n",
    "\n",
    "with open('class_indices.pkl', 'wb') as f:\n",
    "    class_indices = pickle.load(f)\n",
    "\n",
    "model = load_model('path_to_h5_file.h5')\n",
    "\n",
    "img = image.load_img('EuropeanCastles/Castle_Images/Isle_of_Man/Peel_Castle/1.jpg', target_size=(150,150))\n",
    "\n",
    "img_array = image.img_to_array(img)\n",
    "img_array = img_array / 255.0\n",
    "\n",
    "img_array = np.expand_dims(img_array, axis=0)\n",
    "\n",
    "prediction = model.predict(img_array)\n",
    "\n",
    "predicted_class = np.argmax(prediction[0])\n",
    "\n",
    "index_to_class = {v: k for k, v in class_indices.items()}\n",
    "\n",
    "predicted_class_name = index_to_class[predicted_class]\n",
    "\n",
    "print('Predicted class: ', predicted_class_name) \n",
    "\n",
    "\"\"\""
   ]
  }
 ],
 "metadata": {
  "kernelspec": {
   "display_name": "Python 3",
   "language": "python",
   "name": "python3"
  },
  "language_info": {
   "codemirror_mode": {
    "name": "ipython",
    "version": 3
   },
   "file_extension": ".py",
   "mimetype": "text/x-python",
   "name": "python",
   "nbconvert_exporter": "python",
   "pygments_lexer": "ipython3",
   "version": "3.12.0"
  }
 },
 "nbformat": 4,
 "nbformat_minor": 2
}

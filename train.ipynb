{
 "cells": [
  {
   "cell_type": "code",
   "execution_count": null,
   "metadata": {},
   "outputs": [],
   "source": [
    "import os"
   ]
  },
  {
   "cell_type": "code",
   "execution_count": null,
   "metadata": {},
   "outputs": [],
   "source": [
    "countryName=[]\n",
    "countryName=os.listdir('EuropeanCastles\\Castle_Images')"
   ]
  },
  {
   "cell_type": "code",
   "execution_count": null,
   "metadata": {},
   "outputs": [],
   "source": [
    "import matplotlib.pyplot as plt\n",
    "import matplotlib.image as img\n",
    "from keras.preprocessing.image import load_img\n",
    "from keras.preprocessing.image import img_to_array\n",
    "from keras.models import load_model\n",
    "from numpy import asarray"
   ]
  },
  {
   "cell_type": "code",
   "execution_count": null,
   "metadata": {},
   "outputs": [],
   "source": [
    "image_data=[]\n",
    "image_country_name=[]\n",
    "image_castle_name=[]\n",
    "for country in countryName:\n",
    "    castles=os.listdir('EuropeanCastles\\Castle_Images\\{}'.format(country))\n",
    "    for castle in castles:\n",
    "        castle_images=os.listdir('EuropeanCastles\\Castle_Images\\{}\\{}'.format(country,castle))\n",
    "        for imgs in castle_images:\n",
    "            filename='EuropeanCastles\\Castle_Images\\{}\\{}\\{}'.format(country,castle,imgs)\n",
    "            print(imgs,country,castle)\n",
    "            # img=img.imread(\"EuropeanCastles/Castle_Images/Albania/Rozafa_Castle/1.jpg\")\n",
    "            # arr=asarray(img)\n",
    "            # print(arr.shape)\n",
    "            # print(arr.type)\n",
    "            imgg=load_img(filename,color_mode='grayscale', target_size=(375, 500))\n",
    "            imgg=img_to_array(imgg)\n",
    "            imgg=imgg.reshape(375, 500)\n",
    "            image_data.append(imgg)\n",
    "            image_country_name.append(country)\n",
    "            image_castle_name.append(castle)       \n",
    "            \n"
   ]
  },
  {
   "cell_type": "code",
   "execution_count": null,
   "metadata": {},
   "outputs": [],
   "source": [
    "import numpy as np\n",
    "\n",
    "image_data=np.array(image_data)\n",
    "image_country_name=np.array(image_country_name)\n",
    "image_castle_name=np.array(image_castle_name)"
   ]
  },
  {
   "cell_type": "code",
   "execution_count": null,
   "metadata": {},
   "outputs": [],
   "source": [
    "image_data=image_data/255"
   ]
  },
  {
   "cell_type": "code",
   "execution_count": null,
   "metadata": {},
   "outputs": [],
   "source": [
    "for i in range(10):\n",
    "    plt.subplot(4,5,i+1)\n",
    "    plt.imshow(image_data[i],cmap='grey')\n",
    "    plt.title(image_country_name[i])\n",
    "    plt.subplots_adjust(hspace=0.5)\n",
    "    plt.axis(\"off\")"
   ]
  },
  {
   "cell_type": "code",
   "execution_count": null,
   "metadata": {},
   "outputs": [],
   "source": [
    "len(np.unique(image_country_name))"
   ]
  },
  {
   "cell_type": "code",
   "execution_count": null,
   "metadata": {},
   "outputs": [],
   "source": [
    "from keras.models import Sequential\n",
    "from keras.layers import Flatten, Dense\n",
    "\n",
    "model=Sequential()\n",
    "\n",
    "input_layer=Flatten(input_shape=(375, 500))\n",
    "hidden_layer1=Dense(512,activation='relu')\n",
    "hidden_layer2=Dense(512,activation='relu')\n",
    "output_layer=Dense(37,activation='softmax')\n",
    "\n",
    "model.add(input_layer)\n",
    "model.add(hidden_layer1)\n",
    "model.add(hidden_layer2)\n",
    "model.add(output_layer)\n",
    "\n",
    "\n"
   ]
  },
  {
   "cell_type": "code",
   "execution_count": null,
   "metadata": {},
   "outputs": [],
   "source": [
    "model.compile(optimizer='adam',loss='sparse_categorical_crossentropy',metrics=['accuracy'])"
   ]
  },
  {
   "cell_type": "code",
   "execution_count": null,
   "metadata": {},
   "outputs": [],
   "source": [
    "len(image_data)"
   ]
  },
  {
   "cell_type": "code",
   "execution_count": null,
   "metadata": {},
   "outputs": [],
   "source": [
    "last_image_country_name='Albania'\n",
    "intlabel=0\n",
    "int_image_country_name=[]\n",
    "track_lab_int={}\n",
    "for i in range(len(image_country_name)):\n",
    "    current_image_country_name=image_country_name[i]\n",
    "    if last_image_country_name==current_image_country_name:\n",
    "        print(i)\n",
    "        int_image_country_name.append(intlabel)\n",
    "    else:\n",
    "        track_lab_int[last_image_country_name]=intlabel\n",
    "        intlabel=intlabel+1\n",
    "        int_image_country_name.append(intlabel)\n",
    "        last_image_country_name=image_country_name[i]\n",
    "        \n",
    "track_lab_int[last_image_country_name]=intlabel\n"
   ]
  },
  {
   "cell_type": "code",
   "execution_count": null,
   "metadata": {},
   "outputs": [],
   "source": [
    "track_lab_int"
   ]
  },
  {
   "cell_type": "code",
   "execution_count": null,
   "metadata": {},
   "outputs": [],
   "source": [
    "modify_img_country_lab=np.array(int_image_country_name)"
   ]
  },
  {
   "cell_type": "code",
   "execution_count": null,
   "metadata": {},
   "outputs": [],
   "source": [
    "model.fit(image_data,modify_img_country_lab,epochs=10)"
   ]
  }
 ],
 "metadata": {
  "kernelspec": {
   "display_name": "Python 3",
   "language": "python",
   "name": "python3"
  },
  "language_info": {
   "codemirror_mode": {
    "name": "ipython",
    "version": 3
   },
   "file_extension": ".py",
   "mimetype": "text/x-python",
   "name": "python",
   "nbconvert_exporter": "python",
   "pygments_lexer": "ipython3",
   "version": "3.11.0"
  }
 },
 "nbformat": 4,
 "nbformat_minor": 2
}
